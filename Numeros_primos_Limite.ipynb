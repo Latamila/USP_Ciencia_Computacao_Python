{
  "nbformat": 4,
  "nbformat_minor": 0,
  "metadata": {
    "colab": {
      "provenance": [],
      "authorship_tag": "ABX9TyP0hbOe+qxMexE11FYIFbm+",
      "include_colab_link": true
    },
    "kernelspec": {
      "name": "python3",
      "display_name": "Python 3"
    },
    "language_info": {
      "name": "python"
    }
  },
  "cells": [
    {
      "cell_type": "markdown",
      "metadata": {
        "id": "view-in-github",
        "colab_type": "text"
      },
      "source": [
        "<a href=\"https://colab.research.google.com/github/Latamila/USP_Ciencia_Computacao_Python/blob/main/Numeros_primos_Limite.ipynb\" target=\"_parent\"><img src=\"https://colab.research.google.com/assets/colab-badge.svg\" alt=\"Open In Colab\"/></a>"
      ]
    },
    {
      "cell_type": "code",
      "execution_count": 1,
      "metadata": {
        "colab": {
          "base_uri": "https://localhost:8080/"
        },
        "id": "pfI_woY6Xfpv",
        "outputId": "c5df29fa-e5bd-470a-b8c4-075f634b91f2"
      },
      "outputs": [
        {
          "output_type": "stream",
          "name": "stdout",
          "text": [
            "digite o limite máximo: 50\n",
            "2,3,5,7,11,13,17,19,23,29,31,37,41,43,47,"
          ]
        }
      ],
      "source": [
        "def eh_primo(x):\n",
        "  fator =  2\n",
        "  if x == 2:\n",
        "    return True\n",
        "\n",
        "  while x % fator != 0 and fator <= x/2:\n",
        "    fator = fator + 1\n",
        "  if x % fator == 0:\n",
        "    return False\n",
        "  else:\n",
        "    return True\n",
        "\n",
        "\n",
        "limite = int(input('digite o limite máximo: '))\n",
        "\n",
        "n = 2\n",
        "while n < limite:\n",
        "  if eh_primo(n):\n",
        "    print(n, end=',')\n",
        "  n= n+1"
      ]
    },
    {
      "cell_type": "markdown",
      "source": [
        "#NUMEROS PRIMOS QUADRADOS"
      ],
      "metadata": {
        "id": "lAsxave5gH3p"
      }
    },
    {
      "cell_type": "code",
      "source": [
        "primos_quadrados = []\n",
        "n = 2\n",
        "while n < limite:\n",
        "  if eh_primo(n):\n",
        "    primos_quadrados.append(n*n)\n",
        "  n= n+1\n",
        "\n",
        "print(primos_quadrados)"
      ],
      "metadata": {
        "colab": {
          "base_uri": "https://localhost:8080/"
        },
        "id": "WhT7My50fI4O",
        "outputId": "f8b8f890-2471-4848-a36c-6ce09de896df"
      },
      "execution_count": 7,
      "outputs": [
        {
          "output_type": "stream",
          "name": "stdout",
          "text": [
            "[4, 9, 25, 49, 121, 169, 289, 361, 529, 841, 961, 1369, 1681, 1849, 2209]\n"
          ]
        }
      ]
    },
    {
      "cell_type": "markdown",
      "source": [
        "#Faça uma lista receber uma serie de números até que o usuário digite 0.\n",
        "\n",
        "Depois imprima na tela, esta lista ao reverso(a ordem contraria ao que foi digitado)."
      ],
      "metadata": {
        "id": "mpADNRJshUmP"
      }
    },
    {
      "cell_type": "code",
      "source": [
        "data = []\n",
        "n = 1\n",
        "while n > 0:\n",
        "  n = int(input('digite um numero: '))\n",
        "  data.append(n)\n",
        "\n",
        "\n",
        "print(list(reversed(data)))"
      ],
      "metadata": {
        "colab": {
          "base_uri": "https://localhost:8080/"
        },
        "id": "G57_n99dbjv6",
        "outputId": "83c37587-6917-469e-a342-71247a0559e5"
      },
      "execution_count": 30,
      "outputs": [
        {
          "output_type": "stream",
          "name": "stdout",
          "text": [
            "digite um numero: 2\n",
            "digite um numero: 3\n",
            "digite um numero: 4\n",
            "digite um numero: 5\n",
            "digite um numero: 6\n",
            "digite um numero: 0\n",
            "[0, 6, 5, 4, 3, 2]\n"
          ]
        }
      ]
    },
    {
      "cell_type": "code",
      "source": [
        "flores = [\"margarida\", \"rosa\", \"tulipa\", \"cravo\"]\n",
        "tam = len(flores) - 1\n",
        "while tam >= 0:\n",
        "    print(flores[tam], end=\", \")\n",
        "    tam = tam - 1"
      ],
      "metadata": {
        "colab": {
          "base_uri": "https://localhost:8080/"
        },
        "id": "fQMsd_HwiRJD",
        "outputId": "0fd7ff12-86c8-49d4-ab39-7c8769cd5b26"
      },
      "execution_count": 32,
      "outputs": [
        {
          "output_type": "stream",
          "name": "stdout",
          "text": [
            "cravo, tulipa, rosa, margarida, "
          ]
        }
      ]
    },
    {
      "cell_type": "code",
      "source": [
        "x = 0\n",
        "while x <= 2:\n",
        "  print('para x igual a ', x)\n",
        "  #varrer os valores de y, para cada valor de x\n",
        "  y = 0\n",
        "  while y <= 3:\n",
        "    print('   (', x, ',', y, ')'   )\n",
        "    y = y + 1\n",
        "\n",
        "  x = x + 1"
      ],
      "metadata": {
        "colab": {
          "base_uri": "https://localhost:8080/"
        },
        "id": "DFPO329QiVn7",
        "outputId": "44710d69-1244-4459-8943-d37efc1a9368"
      },
      "execution_count": 33,
      "outputs": [
        {
          "output_type": "stream",
          "name": "stdout",
          "text": [
            "para x igual a  0\n",
            "   ( 0 , 0 )\n",
            "   ( 0 , 1 )\n",
            "   ( 0 , 2 )\n",
            "   ( 0 , 3 )\n",
            "para x igual a  1\n",
            "   ( 1 , 0 )\n",
            "   ( 1 , 1 )\n",
            "   ( 1 , 2 )\n",
            "   ( 1 , 3 )\n",
            "para x igual a  2\n",
            "   ( 2 , 0 )\n",
            "   ( 2 , 1 )\n",
            "   ( 2 , 2 )\n",
            "   ( 2 , 3 )\n"
          ]
        }
      ]
    },
    {
      "cell_type": "code",
      "source": [
        "pares = range(0, 40, 2)\n",
        "\n",
        "for i in pares: print(i)"
      ],
      "metadata": {
        "colab": {
          "base_uri": "https://localhost:8080/"
        },
        "id": "xnsUGR25loqb",
        "outputId": "58edc226-0dd2-46cf-b738-d3286c16263b"
      },
      "execution_count": 8,
      "outputs": [
        {
          "output_type": "stream",
          "name": "stdout",
          "text": [
            "0\n",
            "2\n",
            "4\n",
            "6\n",
            "8\n",
            "10\n",
            "12\n",
            "14\n",
            "16\n",
            "18\n",
            "20\n",
            "22\n",
            "24\n",
            "26\n",
            "28\n",
            "30\n",
            "32\n",
            "34\n",
            "36\n",
            "38\n"
          ]
        }
      ]
    },
    {
      "cell_type": "code",
      "source": [
        "numeros = range(100,0,-5)\n",
        "for x in numeros: print(x)"
      ],
      "metadata": {
        "colab": {
          "base_uri": "https://localhost:8080/"
        },
        "id": "Tlghot4Tg_lx",
        "outputId": "b06d46c1-e4c5-484a-b9ee-3e66fabdbfaf"
      },
      "execution_count": 9,
      "outputs": [
        {
          "output_type": "stream",
          "name": "stdout",
          "text": [
            "100\n",
            "95\n",
            "90\n",
            "85\n",
            "80\n",
            "75\n",
            "70\n",
            "65\n",
            "60\n",
            "55\n",
            "50\n",
            "45\n",
            "40\n",
            "35\n",
            "30\n",
            "25\n",
            "20\n",
            "15\n",
            "10\n",
            "5\n"
          ]
        }
      ]
    },
    {
      "cell_type": "code",
      "source": [
        "primos= []\n",
        "n = 2\n",
        "while n < limite:\n",
        "  if eh_primo(n):\n",
        "    primos.append(n)\n",
        "  n= n+1\n",
        "\n",
        "print(primos)"
      ],
      "metadata": {
        "colab": {
          "base_uri": "https://localhost:8080/"
        },
        "id": "DcLDat28hP8p",
        "outputId": "198071a3-358e-45d8-faf6-e19db4d3e750"
      },
      "execution_count": 11,
      "outputs": [
        {
          "output_type": "stream",
          "name": "stdout",
          "text": [
            "[2, 3, 5, 7, 11, 13, 17, 19, 23, 29, 31, 37, 41, 43, 47]\n"
          ]
        }
      ]
    },
    {
      "cell_type": "code",
      "source": [
        "cubos_primos = []\n",
        "for i in range(len(primos)):\n",
        "  cubos_primos.append(primos[i]**3)\n",
        "print(cubos_primos)"
      ],
      "metadata": {
        "colab": {
          "base_uri": "https://localhost:8080/"
        },
        "id": "sSV-NAschk1y",
        "outputId": "ab8115a2-cec7-4a62-851a-7f065c434ef7"
      },
      "execution_count": 13,
      "outputs": [
        {
          "output_type": "stream",
          "name": "stdout",
          "text": [
            "[8, 27, 125, 343, 1331, 2197, 4913, 6859, 12167, 24389, 29791, 50653, 68921, 79507, 103823]\n"
          ]
        }
      ]
    },
    {
      "cell_type": "code",
      "source": [
        "primos_quadrados"
      ],
      "metadata": {
        "colab": {
          "base_uri": "https://localhost:8080/"
        },
        "id": "v5cRovqrh5I3",
        "outputId": "6b451ee3-4f31-4538-c3d1-9c57c5b602a2"
      },
      "execution_count": 14,
      "outputs": [
        {
          "output_type": "execute_result",
          "data": {
            "text/plain": [
              "[4, 9, 25, 49, 121, 169, 289, 361, 529, 841, 961, 1369, 1681, 1849, 2209]"
            ]
          },
          "metadata": {},
          "execution_count": 14
        }
      ]
    },
    {
      "cell_type": "code",
      "source": [
        "animais = [\"gato\", \"cachorro\", \"papagaio\", \"arara\", \"jacaré\"]\n",
        "for x in range(len(animais)):\n",
        "    print(\"--> \",animais[x])"
      ],
      "metadata": {
        "colab": {
          "base_uri": "https://localhost:8080/"
        },
        "id": "iZrEVrJViIiH",
        "outputId": "40149375-be69-4ca4-97a0-5cf89db1fb21"
      },
      "execution_count": 19,
      "outputs": [
        {
          "output_type": "stream",
          "name": "stdout",
          "text": [
            "-->  gato\n",
            "-->  cachorro\n",
            "-->  papagaio\n",
            "-->  arara\n",
            "-->  jacaré\n"
          ]
        }
      ]
    },
    {
      "cell_type": "code",
      "source": [
        "for i in range(16,4,-3):\n",
        "\tprint(i)"
      ],
      "metadata": {
        "colab": {
          "base_uri": "https://localhost:8080/"
        },
        "id": "zaDfJG5RjOw3",
        "outputId": "4010f47e-7521-41ed-a6ff-eca6ee6d3d02"
      },
      "execution_count": 20,
      "outputs": [
        {
          "output_type": "stream",
          "name": "stdout",
          "text": [
            "16\n",
            "13\n",
            "10\n",
            "7\n"
          ]
        }
      ]
    },
    {
      "cell_type": "code",
      "source": [
        "pares = [2, 4, 6, 8, 10, 12, 14, 16, 18, 20, 22, 24, 26, 28, 30]\n",
        "for x in range(len(pares)):\n",
        "    print(x)"
      ],
      "metadata": {
        "colab": {
          "base_uri": "https://localhost:8080/"
        },
        "id": "FWY1b_sGjwtV",
        "outputId": "87c47c53-6a61-4fcb-f513-de7e13fbb698"
      },
      "execution_count": 22,
      "outputs": [
        {
          "output_type": "stream",
          "name": "stdout",
          "text": [
            "0\n",
            "1\n",
            "2\n",
            "3\n",
            "4\n",
            "5\n",
            "6\n",
            "7\n",
            "8\n",
            "9\n",
            "10\n",
            "11\n",
            "12\n",
            "13\n",
            "14\n"
          ]
        }
      ]
    },
    {
      "cell_type": "code",
      "source": [
        "pares = [2, 4, 6, 8, 10, 12, 14, 16, 18, 20, 22, 24, 26, 28, 30]\n",
        "for x in range(5, 10):\n",
        "    print(pares[x])"
      ],
      "metadata": {
        "colab": {
          "base_uri": "https://localhost:8080/"
        },
        "id": "bKTgeUGcj3L6",
        "outputId": "1438a5ec-9db1-4e30-fc7f-25eb1fd73fbf"
      },
      "execution_count": 23,
      "outputs": [
        {
          "output_type": "stream",
          "name": "stdout",
          "text": [
            "12\n",
            "14\n",
            "16\n",
            "18\n",
            "20\n"
          ]
        }
      ]
    },
    {
      "cell_type": "code",
      "source": [
        "for i in range(0, 50, 5):\n",
        "\tprint(i)"
      ],
      "metadata": {
        "colab": {
          "base_uri": "https://localhost:8080/"
        },
        "id": "eEKju74skE61",
        "outputId": "9566486d-a249-4309-8dbc-f82b68a142d2"
      },
      "execution_count": 24,
      "outputs": [
        {
          "output_type": "stream",
          "name": "stdout",
          "text": [
            "0\n",
            "5\n",
            "10\n",
            "15\n",
            "20\n",
            "25\n",
            "30\n",
            "35\n",
            "40\n",
            "45\n"
          ]
        }
      ]
    },
    {
      "cell_type": "code",
      "source": [
        "pares = [2, 4, 6, 8, 10, 12, 14, 16, 18, 20, 22, 24, 26, 28, 30]\n",
        "for x in range(len(pares)):\n",
        "    print(pares[x])"
      ],
      "metadata": {
        "colab": {
          "base_uri": "https://localhost:8080/"
        },
        "id": "escsSkTxkQE-",
        "outputId": "52629045-ed9c-424c-ed67-7675f42c3cce"
      },
      "execution_count": 25,
      "outputs": [
        {
          "output_type": "stream",
          "name": "stdout",
          "text": [
            "2\n",
            "4\n",
            "6\n",
            "8\n",
            "10\n",
            "12\n",
            "14\n",
            "16\n",
            "18\n",
            "20\n",
            "22\n",
            "24\n",
            "26\n",
            "28\n",
            "30\n"
          ]
        }
      ]
    },
    {
      "cell_type": "code",
      "source": [
        "valores = []\n",
        "for i in range(1, 10):\n",
        "    if i % 2 == 0:\n",
        "        valores.append(i)\n",
        "print(valores)"
      ],
      "metadata": {
        "colab": {
          "base_uri": "https://localhost:8080/"
        },
        "id": "mzRrbrCSkVLe",
        "outputId": "cfd49498-326a-423e-f74b-ea099ceedf4f"
      },
      "execution_count": 27,
      "outputs": [
        {
          "output_type": "stream",
          "name": "stdout",
          "text": [
            "[2, 4, 6, 8]\n"
          ]
        }
      ]
    },
    {
      "cell_type": "code",
      "source": [
        "valores = []\n",
        "for i in range(0, 10, 2):\n",
        "    valores.append(i)\n",
        "\n",
        "print(valores)"
      ],
      "metadata": {
        "colab": {
          "base_uri": "https://localhost:8080/"
        },
        "id": "ids058BOkdlY",
        "outputId": "e9f0c5f7-c906-4fb7-fcbf-93c2dcb900db"
      },
      "execution_count": 29,
      "outputs": [
        {
          "output_type": "stream",
          "name": "stdout",
          "text": [
            "[0, 2, 4, 6, 8]\n"
          ]
        }
      ]
    },
    {
      "cell_type": "code",
      "source": [
        "valores = []\n",
        "for i in range(1, 10):\n",
        "    valores.append(i+1)\n",
        "\n",
        "print(valores)"
      ],
      "metadata": {
        "colab": {
          "base_uri": "https://localhost:8080/"
        },
        "id": "Ckur2328kl0W",
        "outputId": "5a00ea01-a81a-4c04-9c23-56a383225df2"
      },
      "execution_count": 31,
      "outputs": [
        {
          "output_type": "stream",
          "name": "stdout",
          "text": [
            "[2, 3, 4, 5, 6, 7, 8, 9, 10]\n"
          ]
        }
      ]
    },
    {
      "cell_type": "code",
      "source": [
        "valores = []\n",
        "for i in range(2, 10, 2):\n",
        "    valores.append(i)\n",
        "\n",
        "print(valores)"
      ],
      "metadata": {
        "colab": {
          "base_uri": "https://localhost:8080/"
        },
        "id": "4Q_Hmxadku8h",
        "outputId": "56d2f443-2112-45f0-81d2-100ee53a6e8b"
      },
      "execution_count": 32,
      "outputs": [
        {
          "output_type": "stream",
          "name": "stdout",
          "text": [
            "[2, 4, 6, 8]\n"
          ]
        }
      ]
    },
    {
      "cell_type": "code",
      "source": [
        "valores = []\n",
        "for i in range(1, 10, 2):\n",
        "    valores.append(i)\n",
        "\n",
        "print(valores)"
      ],
      "metadata": {
        "colab": {
          "base_uri": "https://localhost:8080/"
        },
        "id": "dE-LFCQwk1oL",
        "outputId": "ff26fc67-4b6b-4b4c-b995-4b1967b49a23"
      },
      "execution_count": 33,
      "outputs": [
        {
          "output_type": "stream",
          "name": "stdout",
          "text": [
            "[1, 3, 5, 7, 9]\n"
          ]
        }
      ]
    },
    {
      "cell_type": "code",
      "source": [
        "animais = [\"gato\", \"cachorro\", \"papagaio\",\n",
        "\"arara\", \"jacaré\"]\n",
        "\n",
        "\n",
        "\n",
        "animais[2] = \"piriquito\"\n",
        "\n",
        "\n",
        "print(animais)"
      ],
      "metadata": {
        "colab": {
          "base_uri": "https://localhost:8080/"
        },
        "id": "Bpe4bso9k6ZD",
        "outputId": "ddf42ec4-c2a8-4cb4-9cfd-ed9391a9b0bb"
      },
      "execution_count": 41,
      "outputs": [
        {
          "output_type": "stream",
          "name": "stdout",
          "text": [
            "['gato', 'cachorro', 'piriquito', 'arara', 'jacaré']\n"
          ]
        }
      ]
    },
    {
      "cell_type": "code",
      "source": [
        "animais = [\"gato\", \"cachorro\", \"papagaio\",\n",
        "\"arara\", \"jacaré\"]\n",
        "animais[1+1]= 'piriquito'\n",
        "print(animais)"
      ],
      "metadata": {
        "colab": {
          "base_uri": "https://localhost:8080/"
        },
        "id": "DcA_whNRncbJ",
        "outputId": "6c51f08f-84a4-4158-ef05-cbe30ed83b15"
      },
      "execution_count": 43,
      "outputs": [
        {
          "output_type": "stream",
          "name": "stdout",
          "text": [
            "['gato', 'cachorro', 'piriquito', 'arara', 'jacaré']\n"
          ]
        }
      ]
    },
    {
      "cell_type": "code",
      "source": [
        "animais = [\"gato\", \"cachorro\", \"papagaio\",\n",
        "\"arara\", \"jacaré\"]\n",
        "animais[-3]= 'piriquito'\n",
        "print(animais)"
      ],
      "metadata": {
        "colab": {
          "base_uri": "https://localhost:8080/"
        },
        "id": "RHF0pJMDn8jn",
        "outputId": "d8fd9827-47fa-4249-db2f-18566ab4b911"
      },
      "execution_count": 44,
      "outputs": [
        {
          "output_type": "stream",
          "name": "stdout",
          "text": [
            "['gato', 'cachorro', 'piriquito', 'arara', 'jacaré']\n"
          ]
        }
      ]
    },
    {
      "cell_type": "code",
      "source": [
        "for x in range(len(animais)):\n",
        "    print(\"--> \", x)"
      ],
      "metadata": {
        "colab": {
          "base_uri": "https://localhost:8080/"
        },
        "id": "YQGPdIx0oDh3",
        "outputId": "f1f495a7-fe5e-4f90-8359-45caf2173f46"
      },
      "execution_count": 45,
      "outputs": [
        {
          "output_type": "stream",
          "name": "stdout",
          "text": [
            "-->  0\n",
            "-->  1\n",
            "-->  2\n",
            "-->  3\n",
            "-->  4\n"
          ]
        }
      ]
    },
    {
      "cell_type": "code",
      "source": [
        "for x in range(len(animais)):\n",
        "    print(\"--> \", animais[x])"
      ],
      "metadata": {
        "colab": {
          "base_uri": "https://localhost:8080/"
        },
        "id": "By99pGbUoQB0",
        "outputId": "08c3a13b-cfd9-41b6-a020-4ce0f0d3bb9f"
      },
      "execution_count": 46,
      "outputs": [
        {
          "output_type": "stream",
          "name": "stdout",
          "text": [
            "-->  gato\n",
            "-->  cachorro\n",
            "-->  piriquito\n",
            "-->  arara\n",
            "-->  jacaré\n"
          ]
        }
      ]
    },
    {
      "cell_type": "code",
      "source": [],
      "metadata": {
        "id": "qTbR6DswoUCw"
      },
      "execution_count": null,
      "outputs": []
    }
  ]
}