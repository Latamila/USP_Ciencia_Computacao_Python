{
  "nbformat": 4,
  "nbformat_minor": 0,
  "metadata": {
    "colab": {
      "provenance": [],
      "authorship_tag": "ABX9TyMk5eURTTvVVUHiuj70EeEV",
      "include_colab_link": true
    },
    "kernelspec": {
      "name": "python3",
      "display_name": "Python 3"
    },
    "language_info": {
      "name": "python"
    }
  },
  "cells": [
    {
      "cell_type": "markdown",
      "metadata": {
        "id": "view-in-github",
        "colab_type": "text"
      },
      "source": [
        "<a href=\"https://colab.research.google.com/github/Latamila/USP_Ciencia_Computacao_Python/blob/main/Impares_consecutivos.ipynb\" target=\"_parent\"><img src=\"https://colab.research.google.com/assets/colab-badge.svg\" alt=\"Open In Colab\"/></a>"
      ]
    },
    {
      "cell_type": "code",
      "execution_count": 3,
      "metadata": {
        "id": "AnMmm740aocd"
      },
      "outputs": [],
      "source": [
        "def impares_consecutivos(m):\n",
        "  limite = 1000\n",
        "  impares = [0]\n",
        "  contador = 0\n",
        "  while contador < limite:\n",
        "    for i in range(limite):\n",
        "      if i % 2 != 0:\n",
        "        impares.append(i)\n",
        "        contador += 1\n",
        "  stop = 1\n",
        "  start = 1\n",
        "  for i in range(1,m+1):\n",
        "    print(f'{i}**3 = {impares[start:stop+i]} = {sum(impares[start:stop+i])}')\n",
        "    contador =+ i\n",
        "    start = stop + i#p.exemplo apos fazer a conta traz o stop para o start\n",
        "    #para seguir a sequencia\n",
        "    stop = start\n",
        "    #imediatamente apos atualizar o valor de start, atualiza o valor de stop\n",
        "    #com ele, pois será o ponto de partida\n",
        "    #para o stop no proximo laço sendo adicionado + i"
      ]
    },
    {
      "cell_type": "code",
      "source": [
        "impares_consecutivos(10)"
      ],
      "metadata": {
        "colab": {
          "base_uri": "https://localhost:8080/"
        },
        "id": "Yfdk4KU3asIN",
        "outputId": "1be7e063-51f4-41c3-f61b-bcff3ac58215"
      },
      "execution_count": 4,
      "outputs": [
        {
          "output_type": "stream",
          "name": "stdout",
          "text": [
            "1**3 = [1] = 1\n",
            "2**3 = [3, 5] = 8\n",
            "3**3 = [7, 9, 11] = 27\n",
            "4**3 = [13, 15, 17, 19] = 64\n",
            "5**3 = [21, 23, 25, 27, 29] = 125\n",
            "6**3 = [31, 33, 35, 37, 39, 41] = 216\n",
            "7**3 = [43, 45, 47, 49, 51, 53, 55] = 343\n",
            "8**3 = [57, 59, 61, 63, 65, 67, 69, 71] = 512\n",
            "9**3 = [73, 75, 77, 79, 81, 83, 85, 87, 89] = 729\n",
            "10**3 = [91, 93, 95, 97, 99, 101, 103, 105, 107, 109] = 1000\n"
          ]
        }
      ]
    },
    {
      "cell_type": "code",
      "source": [],
      "metadata": {
        "id": "iFXFN9dxaus4"
      },
      "execution_count": null,
      "outputs": []
    }
  ]
}