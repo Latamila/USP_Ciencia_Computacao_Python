{
  "nbformat": 4,
  "nbformat_minor": 0,
  "metadata": {
    "colab": {
      "provenance": [],
      "authorship_tag": "ABX9TyPGC81Q5k3VR8KaYcUZ+tEM",
      "include_colab_link": true
    },
    "kernelspec": {
      "name": "python3",
      "display_name": "Python 3"
    },
    "language_info": {
      "name": "python"
    }
  },
  "cells": [
    {
      "cell_type": "markdown",
      "metadata": {
        "id": "view-in-github",
        "colab_type": "text"
      },
      "source": [
        "<a href=\"https://colab.research.google.com/github/Latamila/USP_Ciencia_Computacao_Python/blob/main/revisaoPython.ipynb\" target=\"_parent\"><img src=\"https://colab.research.google.com/assets/colab-badge.svg\" alt=\"Open In Colab\"/></a>"
      ]
    },
    {
      "cell_type": "markdown",
      "source": [
        "#Revisão de Python\n",
        "---\n",
        "Comandos Básicos e Conceitos Essenciais\n",
        "\n",
        "#Variáveis e tipos de dados\n",
        "\n",
        "como declarar e usar variáveis"
      ],
      "metadata": {
        "id": "rzpPcjRByBLG"
      }
    },
    {
      "cell_type": "code",
      "execution_count": null,
      "metadata": {
        "id": "xeaIDCB-x87K"
      },
      "outputs": [],
      "source": [
        "nome = \"João\"\n",
        "idade = 25\n",
        "altura = 1.75"
      ]
    },
    {
      "cell_type": "code",
      "source": [
        "type(nome)"
      ],
      "metadata": {
        "id": "2jdI2SVvybIP"
      },
      "execution_count": null,
      "outputs": []
    },
    {
      "cell_type": "code",
      "source": [
        "type(idade)"
      ],
      "metadata": {
        "id": "RXghDKqIycg1"
      },
      "execution_count": null,
      "outputs": []
    },
    {
      "cell_type": "code",
      "source": [
        "type(altura)"
      ],
      "metadata": {
        "id": "0c6w9MJ0ygaY"
      },
      "execution_count": null,
      "outputs": []
    },
    {
      "cell_type": "markdown",
      "source": [
        "\n",
        "\n",
        "*   Tipos de Dados: inteiros, floats, strings e booleanos\n",
        "\n"
      ],
      "metadata": {
        "id": "hf_hzzLtyjns"
      }
    },
    {
      "cell_type": "code",
      "source": [
        "inteiro = 10\n",
        "flututante = 3.14\n",
        "string = \"Olá, mundo!\"\n",
        "booleano = True"
      ],
      "metadata": {
        "id": "ULuSPTFqzEiD"
      },
      "execution_count": null,
      "outputs": []
    },
    {
      "cell_type": "code",
      "source": [
        "type(booleano)"
      ],
      "metadata": {
        "colab": {
          "base_uri": "https://localhost:8080/"
        },
        "id": "v8GAOgFIzPJ2",
        "outputId": "a1caaa13-f8d9-4131-d273-452cb42f51d3"
      },
      "execution_count": null,
      "outputs": [
        {
          "output_type": "execute_result",
          "data": {
            "text/plain": [
              "bool"
            ]
          },
          "metadata": {},
          "execution_count": 7
        }
      ]
    },
    {
      "cell_type": "markdown",
      "source": [
        "#Operadores Aritméticos\n",
        "---\n",
        "\n",
        "Adição, subtração, multiplicação, divisão\n",
        "\n",
        "\n"
      ],
      "metadata": {
        "id": "wc58wg2DzRTp"
      }
    },
    {
      "cell_type": "code",
      "source": [
        "soma = 10 + 5\n",
        "subtracao = 10 - 5\n",
        "multiplicacao = 10 * 5\n",
        "divisao = 10 / 5\n",
        "divisao_sem_resto = 10 // 3\n",
        "resto_da_divisao = 10 % 3\n",
        "exponenciacao = 2 ** 3\n"
      ],
      "metadata": {
        "id": "D5EZNZiCzjNL"
      },
      "execution_count": null,
      "outputs": []
    },
    {
      "cell_type": "code",
      "source": [
        "print('O resultado da soma 10 + 5 é ',soma,'.')"
      ],
      "metadata": {
        "id": "FMEF9Xhbz04K"
      },
      "execution_count": null,
      "outputs": []
    },
    {
      "cell_type": "code",
      "source": [
        "print(f'O resultado da subtração é {subtracao}.')"
      ],
      "metadata": {
        "id": "MbuUZp0lz2vk"
      },
      "execution_count": null,
      "outputs": []
    },
    {
      "cell_type": "code",
      "source": [
        "print(f'O resultado da multiplicação 10 * 5 é {multiplicacao}.')\n"
      ],
      "metadata": {
        "id": "6tbCflWsz9U3"
      },
      "execution_count": null,
      "outputs": []
    },
    {
      "cell_type": "code",
      "source": [
        "print(f'O resultado da divisão 10 / 5 é {divisao}.')\n"
      ],
      "metadata": {
        "id": "UjUaQX9z0C0g"
      },
      "execution_count": null,
      "outputs": []
    },
    {
      "cell_type": "code",
      "source": [
        "print(f'O resultado da divisão 10 / 3 sem decimais é {divisao_sem_resto}.')"
      ],
      "metadata": {
        "id": "-gkunXc40MT8"
      },
      "execution_count": null,
      "outputs": []
    },
    {
      "cell_type": "code",
      "source": [
        "print(f'O resto da divisão 10 / 3 é {resto_da_divisao}.')"
      ],
      "metadata": {
        "id": "OZif-vtd0zVq"
      },
      "execution_count": null,
      "outputs": []
    },
    {
      "cell_type": "code",
      "source": [
        "print(f'2 elevado a 3 é {exponenciacao}.')"
      ],
      "metadata": {
        "id": "k4hAecSz047f"
      },
      "execution_count": null,
      "outputs": []
    },
    {
      "cell_type": "markdown",
      "source": [
        "#Sintaxe Básica\n",
        "---\n",
        "\n",
        "* Indentação:\n",
        "\n",
        "Python usa indentação para definir blocos de código.\n",
        "Exemplo:\n"
      ],
      "metadata": {
        "id": "0zHFRxqg1A1z"
      }
    },
    {
      "cell_type": "code",
      "source": [
        "inicio = True\n",
        "if inicio:\n",
        "    print(\"O programa começou.\")"
      ],
      "metadata": {
        "id": "NNtgIFsD2JZ_"
      },
      "execution_count": null,
      "outputs": []
    },
    {
      "cell_type": "code",
      "source": [
        "if True:\n",
        "    print(\"O programa começou também.\")"
      ],
      "metadata": {
        "id": "DrQaeSbR2O3G"
      },
      "execution_count": null,
      "outputs": []
    },
    {
      "cell_type": "markdown",
      "source": [
        "* Comentários:\n",
        "\n",
        "Uso do # para comentários de uma linha.\n",
        "Uso de \"\"\" ou ''' para comentários de múltiplas linhas."
      ],
      "metadata": {
        "id": "DhCt-bdU2U1A"
      }
    },
    {
      "cell_type": "code",
      "source": [
        "#este é o comentário de uma linha\n",
        "\n",
        "'''\n",
        "este é um comentário\n",
        "de várias linhas\n",
        "'''\n",
        "\n",
        "\"\"\"\n",
        "este também é um comentário\n",
        "de várias linhas\n",
        "MAS\n",
        "este é diferente\n",
        "POIS\n",
        "será impresso na tela\n",
        "\n",
        "\"\"\"\n",
        "\n"
      ],
      "metadata": {
        "id": "nY8qVpbf2htW"
      },
      "execution_count": null,
      "outputs": []
    },
    {
      "cell_type": "markdown",
      "source": [
        "#Armazenamento e estrutura de Dados\n",
        "\n",
        "Podemos armazenar os dados em diversas estruturas"
      ],
      "metadata": {
        "id": "swjA2B5e2r_W"
      }
    },
    {
      "cell_type": "code",
      "source": [
        "lista = [1, 2, 3, 4, 5]\n",
        "tupla = (1, 2, 3, 4, 5)\n",
        "conjunto = {1, 2, 3, 4, 5}\n",
        "dicionario = {'nome': 'João', 'idade': 25, 'cidade': 'São Paulo'}"
      ],
      "metadata": {
        "id": "HgDzyO_f3V9d"
      },
      "execution_count": null,
      "outputs": []
    },
    {
      "cell_type": "code",
      "source": [
        "print(lista)"
      ],
      "metadata": {
        "id": "MkIOEAH63b5d"
      },
      "execution_count": null,
      "outputs": []
    },
    {
      "cell_type": "code",
      "source": [
        "print(lista[3])"
      ],
      "metadata": {
        "id": "tn1HGk203m9h"
      },
      "execution_count": null,
      "outputs": []
    },
    {
      "cell_type": "code",
      "source": [
        "print(tupla[3])"
      ],
      "metadata": {
        "id": "aCfx-rr33d1P"
      },
      "execution_count": null,
      "outputs": []
    },
    {
      "cell_type": "code",
      "source": [
        "print(conjunto[3])"
      ],
      "metadata": {
        "id": "7EVwdba63gwb"
      },
      "execution_count": null,
      "outputs": []
    },
    {
      "cell_type": "markdown",
      "source": [
        "#Hypothesis:\n",
        "\n",
        "Parece que você está tentando acessar um elemento de um conjunto usando indexação (como faria com uma lista ou tupla). No entanto, conjuntos em Python são coleções não ordenadas e, portanto, não suportam indexação.\n",
        "\n",
        "Você pode iterar sobre o conjunto para imprimir cada elemento ou convertê-lo em uma lista se precisar de indexação:"
      ],
      "metadata": {
        "id": "eoVvky6K4ZvT"
      }
    },
    {
      "cell_type": "code",
      "source": [
        "for elemento in conjunto:\n",
        "  print(elemento)"
      ],
      "metadata": {
        "id": "A4PTaSn04U03"
      },
      "execution_count": null,
      "outputs": []
    },
    {
      "cell_type": "code",
      "source": [
        "lista_conjunto = list(conjunto)\n",
        "print(lista_conjunto[3])"
      ],
      "metadata": {
        "id": "_IpevxS9430k"
      },
      "execution_count": null,
      "outputs": []
    },
    {
      "cell_type": "code",
      "source": [
        "print(dicionario['cidade'])"
      ],
      "metadata": {
        "id": "b_dGJdeI32mD"
      },
      "execution_count": null,
      "outputs": []
    },
    {
      "cell_type": "code",
      "source": [
        "print(dicionario['idade'])"
      ],
      "metadata": {
        "id": "zhTAjyti4ChF"
      },
      "execution_count": null,
      "outputs": []
    },
    {
      "cell_type": "code",
      "source": [
        "print(dicionario)"
      ],
      "metadata": {
        "id": "f2ABpUos5DYO"
      },
      "execution_count": null,
      "outputs": []
    },
    {
      "cell_type": "markdown",
      "source": [
        "* Comparação:\n",
        "\n",
        "igual, diferente, maior, menor, maior ou igual, menor ou igual.\n"
      ],
      "metadata": {
        "id": "y497TI8D40tB"
      }
    },
    {
      "cell_type": "code",
      "source": [
        "comparacao = 5 > 3\n",
        "print(comparacao)"
      ],
      "metadata": {
        "id": "KrZhjpxH5Oyz"
      },
      "execution_count": null,
      "outputs": []
    },
    {
      "cell_type": "code",
      "source": [
        "idade = 17\n",
        "if idade >= 18:\n",
        "    print(\"Você é maior de idade.\")\n",
        "else:\n",
        "    print(\"Você é menor de idade.\")"
      ],
      "metadata": {
        "id": "8TKELlID5nzy"
      },
      "execution_count": null,
      "outputs": []
    },
    {
      "cell_type": "code",
      "source": [
        "if dicionario['idade'] >= 18:\n",
        "    print(\"Você é maior de idade. Pode iniciar seu Curso de motorista\")\n",
        "else:\n",
        "    print(\"Que pena! Você ainda é menor de idade.\")"
      ],
      "metadata": {
        "id": "SjHOaqRr5wCc"
      },
      "execution_count": null,
      "outputs": []
    },
    {
      "cell_type": "markdown",
      "source": [
        "\n",
        "*   Condicionais:\n",
        "\n",
        "if, elif, else.\n",
        "\n"
      ],
      "metadata": {
        "id": "mKdJZ6vK40hJ"
      }
    },
    {
      "cell_type": "code",
      "source": [
        "idade = 17\n",
        "if idade >= 18:\n",
        "    print(\"Você é maior de idade.\")\n",
        "elif idade == 17:\n",
        "    print(\"Você tem 17 anos.\")\n",
        "else:\n",
        "    print(\"Você é menor de idade.\")"
      ],
      "metadata": {
        "id": "gXbProVO6INs"
      },
      "execution_count": null,
      "outputs": []
    },
    {
      "cell_type": "markdown",
      "source": [
        "* Laços de repetição:\n",
        "\n",
        "for, while.\n",
        "\n"
      ],
      "metadata": {
        "id": "HuFeOCUO6Rzq"
      }
    },
    {
      "cell_type": "code",
      "source": [
        "for i in range(5):\n",
        "    print(i)\n",
        "\n",
        "#repare que o laço iniciará no 0."
      ],
      "metadata": {
        "id": "TXT7kJCb6cW0"
      },
      "execution_count": null,
      "outputs": []
    },
    {
      "cell_type": "code",
      "source": [
        "#para iniciar no 1.\n",
        "for i in range(1,6):\n",
        "  print(i)"
      ],
      "metadata": {
        "id": "l7pTv1X76eEm"
      },
      "execution_count": null,
      "outputs": []
    },
    {
      "cell_type": "code",
      "source": [
        "#para ter uma variavel para controlar o laço\n",
        "quantidade = 10\n",
        "for i in range(quantidade):\n",
        "    print(i)\n"
      ],
      "metadata": {
        "id": "mAAM8M-Z7X0X"
      },
      "execution_count": null,
      "outputs": []
    },
    {
      "cell_type": "code",
      "source": [
        "''' e se quiser manter o zero e incluir o valor\n",
        "da variável que controla a repetição?\n",
        "\n",
        "Escreva aqui seu código!'''\n"
      ],
      "metadata": {
        "id": "gfACVIs77ktT"
      },
      "execution_count": null,
      "outputs": []
    },
    {
      "cell_type": "markdown",
      "source": [
        "#Conceitos intermediários\n",
        "---\n",
        "\n",
        "Compreensão de listas"
      ],
      "metadata": {
        "id": "xaILwDdv8Eze"
      }
    },
    {
      "cell_type": "code",
      "source": [
        "#sintaxe compacta para criar listas.\n",
        "\n",
        "quadrados = [x**2 for x in range(10)]\n",
        "print(quadrados)"
      ],
      "metadata": {
        "id": "o4TDr24m8jDS"
      },
      "execution_count": null,
      "outputs": []
    },
    {
      "cell_type": "code",
      "source": [
        "#metodo sem compreensão de lista\n",
        "'''e se o stakeholder não quiser que\n",
        "inclua list compreehension?\n",
        "\n",
        "Como faríamos esta lógica dar certo de outra forma.\n",
        "\n",
        "Escreva seu código aqui após as aspas.'''\n",
        "\n"
      ],
      "metadata": {
        "id": "fO6zEVoc8vAP"
      },
      "execution_count": null,
      "outputs": []
    },
    {
      "cell_type": "markdown",
      "source": [
        "#FUNÇÕES\n",
        "---"
      ],
      "metadata": {
        "id": "Bp7Gu9nM9yv1"
      }
    },
    {
      "cell_type": "code",
      "source": [
        "#funções\n",
        "def soma(a, b):\n",
        "    return a + b\n",
        "\n",
        "resultado = soma(3, 5)\n",
        "print(resultado)"
      ],
      "metadata": {
        "id": "UgmViY8I9vml"
      },
      "execution_count": null,
      "outputs": []
    },
    {
      "cell_type": "code",
      "source": [
        "def adicionar_tarefa(tarefas, tarefa):\n",
        "    tarefas.append(tarefa)\n",
        "    print(f\"Tarefa '{tarefa}' adicionada com sucesso!\")"
      ],
      "metadata": {
        "id": "3bTCcm4395B-"
      },
      "execution_count": null,
      "outputs": []
    },
    {
      "cell_type": "code",
      "source": [
        "tarefas = ['Estudar Python', 'Ir ao supermercado']\n",
        "adicionar_tarefa(tarefas, 'Estudar Linux')"
      ],
      "metadata": {
        "id": "XYszkR-E_DFq"
      },
      "execution_count": null,
      "outputs": []
    },
    {
      "cell_type": "code",
      "source": [
        "print(tarefas)"
      ],
      "metadata": {
        "id": "oQh7-7dW_NsH"
      },
      "execution_count": null,
      "outputs": []
    },
    {
      "cell_type": "code",
      "source": [
        "for tarefa in tarefas:\n",
        "    print(tarefa)"
      ],
      "metadata": {
        "id": "czyv0D_K_Yxv"
      },
      "execution_count": null,
      "outputs": []
    },
    {
      "cell_type": "code",
      "source": [
        "# quando muda a estrutura dos dados\n",
        "agenda = {'08:00': 'Estudar Python'}"
      ],
      "metadata": {
        "id": "6s6s4EjL_ivz"
      },
      "execution_count": null,
      "outputs": []
    },
    {
      "cell_type": "code",
      "source": [
        "print(agenda)"
      ],
      "metadata": {
        "id": "FbidRdeb_pfJ"
      },
      "execution_count": null,
      "outputs": []
    },
    {
      "cell_type": "code",
      "source": [
        "adicionar_tarefa(agenda, 'Ir ao supermercado')"
      ],
      "metadata": {
        "id": "w1yoZJTL_yxh"
      },
      "execution_count": null,
      "outputs": []
    },
    {
      "cell_type": "code",
      "source": [
        "def adicionar_tarefa(agenda, horario, tarefa):\n",
        "    agenda[horario] = tarefa\n",
        "    print(f\"Tarefa '{tarefa}' adicionada com sucesso para o horário {horario}!\")\n",
        "\n",
        "adicionar_tarefa(agenda, '09:00', 'Ir ao supermercado')\n",
        "print(agenda)"
      ],
      "metadata": {
        "id": "dV77YX-1AmSm"
      },
      "execution_count": null,
      "outputs": []
    },
    {
      "cell_type": "code",
      "source": [
        "'''\n",
        "Adicione mais uma tarefa à sua agenda.\n",
        "\n",
        "Escreva seu código aqui apos a aspas.\n",
        "'''"
      ],
      "metadata": {
        "id": "pJtM3GeRBgR1"
      },
      "execution_count": null,
      "outputs": []
    },
    {
      "cell_type": "markdown",
      "source": [
        "* Funções lambda\n",
        "---\n",
        "funções anônimas e rápidas"
      ],
      "metadata": {
        "id": "GHPmQ-K09ooC"
      }
    },
    {
      "cell_type": "code",
      "source": [
        "soma = lambda x, y: x + y\n",
        "resultado = soma(3, 5)\n",
        "print(resultado)"
      ],
      "metadata": {
        "id": "-8Z6PdOg8uKI"
      },
      "execution_count": null,
      "outputs": []
    },
    {
      "cell_type": "code",
      "source": [
        "#fazer uma lambda para adicionar tarefa\n",
        "adicionar_tarefa = lambda agenda, horario, tarefa: agenda.update({horario: tarefa})\n",
        "adicionar_tarefa(agenda, '10:00', 'Estudar Linux')\n",
        "print(agenda)"
      ],
      "metadata": {
        "id": "KZtG2lOJByKR"
      },
      "execution_count": null,
      "outputs": []
    },
    {
      "cell_type": "markdown",
      "source": [
        "#MANIPULAÇÃO DE ARQUIVOS\n",
        "---\n",
        "LEITURA E ESCRITA DE ARQUIVOS"
      ],
      "metadata": {
        "id": "ZnfMvp3lCCIk"
      }
    },
    {
      "cell_type": "code",
      "source": [
        "with open('arquivo.txt', 'w') as arquivo:\n",
        "    arquivo.write('Olá, Mundo!\\n')\n",
        "    arquivo.write('Este é um arquivo de teste.\\n')\n",
        "    arquivo.write('Vamos escrever algumas linhas!\\n')\n",
        "\n",
        "with open('arquivo.txt', 'r') as arquivo:\n",
        "    conteudo = arquivo.read()\n",
        "    print(conteudo)\n",
        "\n"
      ],
      "metadata": {
        "id": "GYG9X22_CW0k"
      },
      "execution_count": null,
      "outputs": []
    }
  ]
}